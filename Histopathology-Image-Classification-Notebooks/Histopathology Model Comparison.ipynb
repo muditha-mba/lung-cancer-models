{
 "cells": [
  {
   "cell_type": "markdown",
   "metadata": {
    "id": "nGEfmwfDlQiX"
   },
   "source": [
    "# Installations"
   ]
  },
  {
   "cell_type": "code",
   "execution_count": 1,
   "metadata": {
    "colab": {
     "base_uri": "https://localhost:8080/"
    },
    "executionInfo": {
     "elapsed": 19756,
     "status": "ok",
     "timestamp": 1751837602962,
     "user": {
      "displayName": "Muditha Athipola",
      "userId": "12264559057362737109"
     },
     "user_tz": -330
    },
    "id": "n9dL3WU5lJVN",
    "outputId": "e7271a67-c2fe-4851-d6f1-8e28a0cdaef7"
   },
   "outputs": [
    {
     "name": "stdout",
     "output_type": "stream",
     "text": [
      "\u001b[2K   \u001b[90m━━━━━━━━━━━━━━━━━━━━━━━━━━━━━━━━━━━━━━━━\u001b[0m \u001b[32m139.9/139.9 kB\u001b[0m \u001b[31m4.5 MB/s\u001b[0m eta \u001b[36m0:00:00\u001b[0m\n",
      "\u001b[2K   \u001b[90m━━━━━━━━━━━━━━━━━━━━━━━━━━━━━━━━━━━━━━━━\u001b[0m \u001b[32m4.7/4.7 MB\u001b[0m \u001b[31m60.4 MB/s\u001b[0m eta \u001b[36m0:00:00\u001b[0m\n",
      "\u001b[2K   \u001b[90m━━━━━━━━━━━━━━━━━━━━━━━━━━━━━━━━━━━━━━━━\u001b[0m \u001b[32m13.8/13.8 MB\u001b[0m \u001b[31m83.8 MB/s\u001b[0m eta \u001b[36m0:00:00\u001b[0m\n",
      "\u001b[2K   \u001b[90m━━━━━━━━━━━━━━━━━━━━━━━━━━━━━━━━━━━━━━━━\u001b[0m \u001b[32m570.5/570.5 kB\u001b[0m \u001b[31m32.5 MB/s\u001b[0m eta \u001b[36m0:00:00\u001b[0m\n",
      "\u001b[2K   \u001b[90m━━━━━━━━━━━━━━━━━━━━━━━━━━━━━━━━━━━━━━━━\u001b[0m \u001b[32m85.2/85.2 kB\u001b[0m \u001b[31m5.7 MB/s\u001b[0m eta \u001b[36m0:00:00\u001b[0m\n",
      "\u001b[?25h\u001b[31mERROR: pip's dependency resolver does not currently take into account all the packages that are installed. This behaviour is the source of the following dependency conflicts.\n",
      "sphinx 8.2.3 requires docutils<0.22,>=0.20, but you have docutils 0.19 which is incompatible.\u001b[0m\u001b[31m\n",
      "\u001b[0m"
     ]
    }
   ],
   "source": [
    "!pip install boto3 awscli -q"
   ]
  },
  {
   "cell_type": "markdown",
   "metadata": {
    "id": "9Z2zB-yElbp7"
   },
   "source": [
    "# Imports"
   ]
  },
  {
   "cell_type": "code",
   "execution_count": 2,
   "metadata": {
    "executionInfo": {
     "elapsed": 12110,
     "status": "ok",
     "timestamp": 1751837615091,
     "user": {
      "displayName": "Muditha Athipola",
      "userId": "12264559057362737109"
     },
     "user_tz": -330
    },
    "id": "sL6ucZfalJSk"
   },
   "outputs": [],
   "source": [
    "import os\n",
    "import numpy as np\n",
    "import pandas as pd\n",
    "import matplotlib.pyplot as plt\n",
    "from sklearn.preprocessing import label_binarize\n",
    "from sklearn.metrics import classification_report, roc_curve, auc, accuracy_score\n",
    "from tensorflow.keras.models import load_model\n",
    "from tensorflow.keras.preprocessing.image import ImageDataGenerator\n",
    "from tensorflow.keras.applications.inception_v3 import preprocess_input as inception_preprocess\n",
    "from tensorflow.keras.applications.resnet50 import preprocess_input as resnet_preprocess\n",
    "from tensorflow.keras.applications.vgg16 import preprocess_input as vgg_preprocess\n",
    "import boto3\n",
    "from botocore.exceptions import NoCredentialsError"
   ]
  },
  {
   "cell_type": "markdown",
   "metadata": {
    "id": "gOfhGD40mPo0"
   },
   "source": [
    "# Global Variables"
   ]
  },
  {
   "cell_type": "code",
   "execution_count": 3,
   "metadata": {
    "executionInfo": {
     "elapsed": 32,
     "status": "ok",
     "timestamp": 1751837615102,
     "user": {
      "displayName": "Muditha Athipola",
      "userId": "12264559057362737109"
     },
     "user_tz": -330
    },
    "id": "nk4TJ5AYlJQE"
   },
   "outputs": [],
   "source": [
    "SEED = 42\n",
    "BATCH_SIZE = 32\n",
    "IMG_SIZE = (224, 224)\n",
    "S3_BUCKET_NAME = 'lung-cancer-project-data'\n",
    "MODEL_FOLDER = '/content/models/'\n",
    "LOCAL_DATASET_PATH = '/content/drive/MyDrive/lung-cancer-project-data/datasets/histopathology'\n",
    "CLASS_LABELS = ['adenocarcinoma', 'benign', 'squamous_cell_carcinoma']\n",
    "\n",
    "os.makedirs(MODEL_FOLDER, exist_ok=True)\n",
    "\n",
    "# Model paths\n",
    "MODEL_PATHS = {\n",
    "    'inceptionv3': MODEL_FOLDER + 'InceptionV3_histopathology_model_20250706-111914.h5',\n",
    "    'resnet50': MODEL_FOLDER + 'ResNet50_histopathology_model_20250706-210903.h5',\n",
    "    'vgg16': MODEL_FOLDER + 'VGG16_histopathology_model_20250706-112639.h5',\n",
    "}"
   ]
  },
  {
   "cell_type": "markdown",
   "metadata": {
    "id": "uBASICoFmckC"
   },
   "source": [
    "# AWS Credentials"
   ]
  },
  {
   "cell_type": "code",
   "execution_count": null,
   "metadata": {
    "executionInfo": {
     "elapsed": 975,
     "status": "ok",
     "timestamp": 1751837616079,
     "user": {
      "displayName": "Muditha Athipola",
      "userId": "12264559057362737109"
     },
     "user_tz": -330
    },
    "id": "yWIkrAIHlJNt"
   },
   "outputs": [],
   "source": [
    "os.environ[\"AWS_ACCESS_KEY_ID\"] = \"xxxxxxxxxxxxxxxxxxxxxxx\"\n",
    "os.environ[\"AWS_SECRET_ACCESS_KEY\"] = \"xxxxxxxxxxxxxxxxxxxxxxx\"\n",
    "os.environ[\"AWS_DEFAULT_REGION\"] = \"ap-south-1\"\n",
    "s3 = boto3.client('s3')"
   ]
  },
  {
   "cell_type": "markdown",
   "metadata": {
    "id": "uz0JN0Qec7_G"
   },
   "source": [
    "# Download model files from S3 if not already present"
   ]
  },
  {
   "cell_type": "code",
   "execution_count": 5,
   "metadata": {
    "colab": {
     "base_uri": "https://localhost:8080/"
    },
    "executionInfo": {
     "elapsed": 39436,
     "status": "ok",
     "timestamp": 1751837655517,
     "user": {
      "displayName": "Muditha Athipola",
      "userId": "12264559057362737109"
     },
     "user_tz": -330
    },
    "id": "ScJxMzxSc85a",
    "outputId": "68705d67-685e-4f18-aada-19f48ed17c0a"
   },
   "outputs": [
    {
     "name": "stdout",
     "output_type": "stream",
     "text": [
      "Downloading inceptionv3 model from S3...\n",
      "Downloading resnet50 model from S3...\n",
      "Downloading vgg16 model from S3...\n"
     ]
    }
   ],
   "source": [
    "for name, model_path in MODEL_PATHS.items():\n",
    "    if not os.path.exists(model_path):\n",
    "        print(f\"Downloading {name} model from S3...\")\n",
    "        s3.download_file(S3_BUCKET_NAME, f\"model-artifacts/histopathology_test_models/{os.path.basename(model_path)}\", model_path)"
   ]
  },
  {
   "cell_type": "markdown",
   "metadata": {
    "id": "V9Y876qK-TXQ"
   },
   "source": [
    "# Preprocessing functions for each model"
   ]
  },
  {
   "cell_type": "code",
   "execution_count": 6,
   "metadata": {
    "executionInfo": {
     "elapsed": 4,
     "status": "ok",
     "timestamp": 1751837655545,
     "user": {
      "displayName": "Muditha Athipola",
      "userId": "12264559057362737109"
     },
     "user_tz": -330
    },
    "id": "x8wm-MKa-VeE"
   },
   "outputs": [],
   "source": [
    "preprocessors = {\n",
    "    'inceptionv3': inception_preprocess,\n",
    "    'resnet50': resnet_preprocess,\n",
    "    'vgg16': vgg_preprocess,\n",
    "}"
   ]
  },
  {
   "cell_type": "markdown",
   "metadata": {
    "id": "RwVX2jM1JCEJ"
   },
   "source": [
    "# Evaluate Models"
   ]
  },
  {
   "cell_type": "code",
   "execution_count": 7,
   "metadata": {
    "colab": {
     "base_uri": "https://localhost:8080/"
    },
    "executionInfo": {
     "elapsed": 2437616,
     "status": "ok",
     "timestamp": 1751840093163,
     "user": {
      "displayName": "Muditha Athipola",
      "userId": "12264559057362737109"
     },
     "user_tz": -330
    },
    "id": "IE7XqIZrJCaJ",
    "outputId": "53606a33-f1c7-4615-e997-4bd53d5fbb6b"
   },
   "outputs": [
    {
     "name": "stdout",
     "output_type": "stream",
     "text": [
      "\n",
      " Evaluating inceptionv3...\n",
      "Found 2250 images belonging to 3 classes.\n"
     ]
    },
    {
     "name": "stderr",
     "output_type": "stream",
     "text": [
      "WARNING:absl:Compiled the loaded model, but the compiled metrics have yet to be built. `model.compile_metrics` will be empty until you train or evaluate the model.\n",
      "/usr/local/lib/python3.11/dist-packages/keras/src/trainers/data_adapters/py_dataset_adapter.py:121: UserWarning: Your `PyDataset` class should call `super().__init__(**kwargs)` in its constructor. `**kwargs` can include `workers`, `use_multiprocessing`, `max_queue_size`. Do not pass these arguments to `fit()`, as they will be ignored.\n",
      "  self._warn_if_super_not_called()\n"
     ]
    },
    {
     "name": "stdout",
     "output_type": "stream",
     "text": [
      "\n",
      " Evaluating resnet50...\n",
      "Found 2250 images belonging to 3 classes.\n"
     ]
    },
    {
     "name": "stderr",
     "output_type": "stream",
     "text": [
      "WARNING:absl:Compiled the loaded model, but the compiled metrics have yet to be built. `model.compile_metrics` will be empty until you train or evaluate the model.\n",
      "/usr/local/lib/python3.11/dist-packages/keras/src/trainers/data_adapters/py_dataset_adapter.py:121: UserWarning: Your `PyDataset` class should call `super().__init__(**kwargs)` in its constructor. `**kwargs` can include `workers`, `use_multiprocessing`, `max_queue_size`. Do not pass these arguments to `fit()`, as they will be ignored.\n",
      "  self._warn_if_super_not_called()\n"
     ]
    },
    {
     "name": "stdout",
     "output_type": "stream",
     "text": [
      "\n",
      " Evaluating vgg16...\n",
      "Found 2250 images belonging to 3 classes.\n"
     ]
    },
    {
     "name": "stderr",
     "output_type": "stream",
     "text": [
      "WARNING:absl:Compiled the loaded model, but the compiled metrics have yet to be built. `model.compile_metrics` will be empty until you train or evaluate the model.\n",
      "/usr/local/lib/python3.11/dist-packages/keras/src/trainers/data_adapters/py_dataset_adapter.py:121: UserWarning: Your `PyDataset` class should call `super().__init__(**kwargs)` in its constructor. `**kwargs` can include `workers`, `use_multiprocessing`, `max_queue_size`. Do not pass these arguments to `fit()`, as they will be ignored.\n",
      "  self._warn_if_super_not_called()\n"
     ]
    }
   ],
   "source": [
    "results = {}\n",
    "\n",
    "for name in MODEL_PATHS:\n",
    "    print(f\"\\n Evaluating {name}...\")\n",
    "\n",
    "    # Data generator\n",
    "    datagen = ImageDataGenerator(preprocessing_function=preprocessors[name])\n",
    "    test_generator = datagen.flow_from_directory(\n",
    "        os.path.join(LOCAL_DATASET_PATH, 'test'),\n",
    "        target_size=IMG_SIZE,\n",
    "        batch_size=1,\n",
    "        class_mode='categorical',\n",
    "        shuffle=False,\n",
    "        seed=SEED\n",
    "    )\n",
    "\n",
    "    # Load model and predict\n",
    "    model = load_model(MODEL_PATHS[name])\n",
    "    y_true = test_generator.classes\n",
    "    y_probs = model.predict(test_generator, verbose=0)\n",
    "    y_pred = np.argmax(y_probs, axis=1)\n",
    "\n",
    "    # Metrics\n",
    "    acc = accuracy_score(y_true, y_pred)\n",
    "    report = classification_report(y_true, y_pred, target_names=CLASS_LABELS, output_dict=True)\n",
    "    f1_macro = report['macro avg']['f1-score']\n",
    "\n",
    "    # Micro-average ROC AUC\n",
    "    y_true_bin = label_binarize(y_true, classes=[0, 1, 2])\n",
    "    fpr, tpr, _ = roc_curve(y_true_bin.ravel(), y_probs.ravel())\n",
    "    micro_auc = auc(fpr, tpr)\n",
    "\n",
    "    # Save metrics\n",
    "    results[name] = {\n",
    "        'accuracy': acc,\n",
    "        'f1_macro': f1_macro,\n",
    "        'micro_auc': micro_auc,\n",
    "        'fpr': fpr,\n",
    "        'tpr': tpr\n",
    "    }\n"
   ]
  },
  {
   "cell_type": "markdown",
   "metadata": {
    "id": "ge4FYuhPMqHJ"
   },
   "source": [
    "# ROC Curves for All Models Comparison"
   ]
  },
  {
   "cell_type": "code",
   "execution_count": 8,
   "metadata": {
    "colab": {
     "base_uri": "https://localhost:8080/",
     "height": 718
    },
    "executionInfo": {
     "elapsed": 449,
     "status": "ok",
     "timestamp": 1751840093619,
     "user": {
      "displayName": "Muditha Athipola",
      "userId": "12264559057362737109"
     },
     "user_tz": -330
    },
    "id": "objWNOlSMxvq",
    "outputId": "27a7639f-4111-426a-8885-fd2e6623c80b"
   },
   "outputs": [
    {
     "data": {
      "image/png": "[encoded data removed]",
      "text/plain": [
       "<Figure size 1000x800 with 1 Axes>"
      ]
     },
     "metadata": {},
     "output_type": "display_data"
    }
   ],
   "source": [
    "plt.figure(figsize=(10, 8))\n",
    "for name, metrics in results.items():\n",
    "    plt.plot(metrics['fpr'], metrics['tpr'], label=f\"{name} (AUC = {metrics['micro_auc']:.4f})\")\n",
    "\n",
    "plt.plot([0, 1], [0, 1], 'k--')\n",
    "plt.title(\"Micro-Average ROC Curve Comparison\")\n",
    "plt.xlabel(\"False Positive Rate\")\n",
    "plt.ylabel(\"True Positive Rate\")\n",
    "plt.legend()\n",
    "plt.grid(True)\n",
    "plt.show()"
   ]
  },
  {
   "cell_type": "markdown",
   "metadata": {
    "id": "su7QGmToNFR1"
   },
   "source": [
    "# Summary Table"
   ]
  },
  {
   "cell_type": "code",
   "execution_count": 9,
   "metadata": {
    "colab": {
     "base_uri": "https://localhost:8080/",
     "height": 143
    },
    "executionInfo": {
     "elapsed": 32,
     "status": "ok",
     "timestamp": 1751840093659,
     "user": {
      "displayName": "Muditha Athipola",
      "userId": "12264559057362737109"
     },
     "user_tz": -330
    },
    "id": "axmo6upVNFpB",
    "outputId": "815cc93b-cf75-4911-ce43-7f23c71080cd"
   },
   "outputs": [
    {
     "data": {
      "application/vnd.google.colaboratory.intrinsic+json": {
       "summary": "{\n  \"name\": \"display(summary_df\",\n  \"rows\": 3,\n  \"fields\": [\n    {\n      \"column\": \"accuracy\",\n      \"properties\": {\n        \"dtype\": \"number\",\n        \"std\": 0.34896427228777066,\n        \"min\": 0.3378,\n        \"max\": 0.9453,\n        \"num_unique_values\": 3,\n        \"samples\": [\n          0.9453,\n          0.9391,\n          0.3378\n        ],\n        \"semantic_type\": \"\",\n        \"description\": \"\"\n      }\n    },\n    {\n      \"column\": \"f1_macro\",\n      \"properties\": {\n        \"dtype\": \"number\",\n        \"std\": 0.4422903910328598,\n        \"min\": 0.1761,\n        \"max\": 0.9453,\n        \"num_unique_values\": 3,\n        \"samples\": [\n          0.9453,\n          0.939,\n          0.1761\n        ],\n        \"semantic_type\": \"\",\n        \"description\": \"\"\n      }\n    },\n    {\n      \"column\": \"micro_auc\",\n      \"properties\": {\n        \"dtype\": \"number\",\n        \"std\": 0.2789759368356585,\n        \"min\": 0.5105,\n        \"max\": 0.9941,\n        \"num_unique_values\": 3,\n        \"samples\": [\n          0.9941,\n          0.9933,\n          0.5105\n        ],\n        \"semantic_type\": \"\",\n        \"description\": \"\"\n      }\n    }\n  ]\n}",
       "type": "dataframe"
      },
      "text/html": [
       "\n",
       "  <div id=\"df-59d028e9-b6b3-40e4-b242-3613b63ad8d4\" class=\"colab-df-container\">\n",
       "    <div>\n",
       "<style scoped>\n",
       "    .dataframe tbody tr th:only-of-type {\n",
       "        vertical-align: middle;\n",
       "    }\n",
       "\n",
       "    .dataframe tbody tr th {\n",
       "        vertical-align: top;\n",
       "    }\n",
       "\n",
       "    .dataframe thead th {\n",
       "        text-align: right;\n",
       "    }\n",
       "</style>\n",
       "<table border=\"1\" class=\"dataframe\">\n",
       "  <thead>\n",
       "    <tr style=\"text-align: right;\">\n",
       "      <th></th>\n",
       "      <th>accuracy</th>\n",
       "      <th>f1_macro</th>\n",
       "      <th>micro_auc</th>\n",
       "    </tr>\n",
       "  </thead>\n",
       "  <tbody>\n",
       "    <tr>\n",
       "      <th>resnet50</th>\n",
       "      <td>0.9453</td>\n",
       "      <td>0.9453</td>\n",
       "      <td>0.9941</td>\n",
       "    </tr>\n",
       "    <tr>\n",
       "      <th>inceptionv3</th>\n",
       "      <td>0.9391</td>\n",
       "      <td>0.9390</td>\n",
       "      <td>0.9933</td>\n",
       "    </tr>\n",
       "    <tr>\n",
       "      <th>vgg16</th>\n",
       "      <td>0.3378</td>\n",
       "      <td>0.1761</td>\n",
       "      <td>0.5105</td>\n",
       "    </tr>\n",
       "  </tbody>\n",
       "</table>\n",
       "</div>\n",
       "    <div class=\"colab-df-buttons\">\n",
       "\n",
       "  <div class=\"colab-df-container\">\n",
       "    <button class=\"colab-df-convert\" onclick=\"convertToInteractive('df-59d028e9-b6b3-40e4-b242-3613b63ad8d4')\"\n",
       "            title=\"Convert this dataframe to an interactive table.\"\n",
       "            style=\"display:none;\">\n",
       "\n",
       "  <svg xmlns=\"http://www.w3.org/2000/svg\" height=\"24px\" viewBox=\"0 -960 960 960\">\n",
       "    <path d=\"M120-120v-720h720v720H120Zm60-500h600v-160H180v160Zm220 220h160v-160H400v160Zm0 220h160v-160H400v160ZM180-400h160v-160H180v160Zm440 0h160v-160H620v160ZM180-180h160v-160H180v160Zm440 0h160v-160H620v160Z\"/>\n",
       "  </svg>\n",
       "    </button>\n",
       "\n",
       "  <style>\n",
       "    .colab-df-container {\n",
       "      display:flex;\n",
       "      gap: 12px;\n",
       "    }\n",
       "\n",
       "    .colab-df-convert {\n",
       "      background-color: #E8F0FE;\n",
       "      border: none;\n",
       "      border-radius: 50%;\n",
       "      cursor: pointer;\n",
       "      display: none;\n",
       "      fill: #1967D2;\n",
       "      height: 32px;\n",
       "      padding: 0 0 0 0;\n",
       "      width: 32px;\n",
       "    }\n",
       "\n",
       "    .colab-df-convert:hover {\n",
       "      background-color: #E2EBFA;\n",
       "      box-shadow: 0px 1px 2px rgba(60, 64, 67, 0.3), 0px 1px 3px 1px rgba(60, 64, 67, 0.15);\n",
       "      fill: #174EA6;\n",
       "    }\n",
       "\n",
       "    .colab-df-buttons div {\n",
       "      margin-bottom: 4px;\n",
       "    }\n",
       "\n",
       "    [theme=dark] .colab-df-convert {\n",
       "      background-color: #3B4455;\n",
       "      fill: #D2E3FC;\n",
       "    }\n",
       "\n",
       "    [theme=dark] .colab-df-convert:hover {\n",
       "      background-color: #434B5C;\n",
       "      box-shadow: 0px 1px 3px 1px rgba(0, 0, 0, 0.15);\n",
       "      filter: drop-shadow(0px 1px 2px rgba(0, 0, 0, 0.3));\n",
       "      fill: #FFFFFF;\n",
       "    }\n",
       "  </style>\n",
       "\n",
       "    <script>\n",
       "      const buttonEl =\n",
       "        document.querySelector('#df-59d028e9-b6b3-40e4-b242-3613b63ad8d4 button.colab-df-convert');\n",
       "      buttonEl.style.display =\n",
       "        google.colab.kernel.accessAllowed ? 'block' : 'none';\n",
       "\n",
       "      async function convertToInteractive(key) {\n",
       "        const element = document.querySelector('#df-59d028e9-b6b3-40e4-b242-3613b63ad8d4');\n",
       "        const dataTable =\n",
       "          await google.colab.kernel.invokeFunction('convertToInteractive',\n",
       "                                                    [key], {});\n",
       "        if (!dataTable) return;\n",
       "\n",
       "        const docLinkHtml = 'Like what you see? Visit the ' +\n",
       "          '<a target=\"_blank\" href=https://colab.research.google.com/notebooks/data_table.ipynb>data table notebook</a>'\n",
       "          + ' to learn more about interactive tables.';\n",
       "        element.innerHTML = '';\n",
       "        dataTable['output_type'] = 'display_data';\n",
       "        await google.colab.output.renderOutput(dataTable, element);\n",
       "        const docLink = document.createElement('div');\n",
       "        docLink.innerHTML = docLinkHtml;\n",
       "        element.appendChild(docLink);\n",
       "      }\n",
       "    </script>\n",
       "  </div>\n",
       "\n",
       "\n",
       "    <div id=\"df-ff7784a0-65a0-46aa-a7c3-039b13db207e\">\n",
       "      <button class=\"colab-df-quickchart\" onclick=\"quickchart('df-ff7784a0-65a0-46aa-a7c3-039b13db207e')\"\n",
       "                title=\"Suggest charts\"\n",
       "                style=\"display:none;\">\n",
       "\n",
       "<svg xmlns=\"http://www.w3.org/2000/svg\" height=\"24px\"viewBox=\"0 0 24 24\"\n",
       "     width=\"24px\">\n",
       "    <g>\n",
       "        <path d=\"M19 3H5c-1.1 0-2 .9-2 2v14c0 1.1.9 2 2 2h14c1.1 0 2-.9 2-2V5c0-1.1-.9-2-2-2zM9 17H7v-7h2v7zm4 0h-2V7h2v10zm4 0h-2v-4h2v4z\"/>\n",
       "    </g>\n",
       "</svg>\n",
       "      </button>\n",
       "\n",
       "<style>\n",
       "  .colab-df-quickchart {\n",
       "      --bg-color: #E8F0FE;\n",
       "      --fill-color: #1967D2;\n",
       "      --hover-bg-color: #E2EBFA;\n",
       "      --hover-fill-color: #174EA6;\n",
       "      --disabled-fill-color: #AAA;\n",
       "      --disabled-bg-color: #DDD;\n",
       "  }\n",
       "\n",
       "  [theme=dark] .colab-df-quickchart {\n",
       "      --bg-color: #3B4455;\n",
       "      --fill-color: #D2E3FC;\n",
       "      --hover-bg-color: #434B5C;\n",
       "      --hover-fill-color: #FFFFFF;\n",
       "      --disabled-bg-color: #3B4455;\n",
       "      --disabled-fill-color: #666;\n",
       "  }\n",
       "\n",
       "  .colab-df-quickchart {\n",
       "    background-color: var(--bg-color);\n",
       "    border: none;\n",
       "    border-radius: 50%;\n",
       "    cursor: pointer;\n",
       "    display: none;\n",
       "    fill: var(--fill-color);\n",
       "    height: 32px;\n",
       "    padding: 0;\n",
       "    width: 32px;\n",
       "  }\n",
       "\n",
       "  .colab-df-quickchart:hover {\n",
       "    background-color: var(--hover-bg-color);\n",
       "    box-shadow: 0 1px 2px rgba(60, 64, 67, 0.3), 0 1px 3px 1px rgba(60, 64, 67, 0.15);\n",
       "    fill: var(--button-hover-fill-color);\n",
       "  }\n",
       "\n",
       "  .colab-df-quickchart-complete:disabled,\n",
       "  .colab-df-quickchart-complete:disabled:hover {\n",
       "    background-color: var(--disabled-bg-color);\n",
       "    fill: var(--disabled-fill-color);\n",
       "    box-shadow: none;\n",
       "  }\n",
       "\n",
       "  .colab-df-spinner {\n",
       "    border: 2px solid var(--fill-color);\n",
       "    border-color: transparent;\n",
       "    border-bottom-color: var(--fill-color);\n",
       "    animation:\n",
       "      spin 1s steps(1) infinite;\n",
       "  }\n",
       "\n",
       "  @keyframes spin {\n",
       "    0% {\n",
       "      border-color: transparent;\n",
       "      border-bottom-color: var(--fill-color);\n",
       "      border-left-color: var(--fill-color);\n",
       "    }\n",
       "    20% {\n",
       "      border-color: transparent;\n",
       "      border-left-color: var(--fill-color);\n",
       "      border-top-color: var(--fill-color);\n",
       "    }\n",
       "    30% {\n",
       "      border-color: transparent;\n",
       "      border-left-color: var(--fill-color);\n",
       "      border-top-color: var(--fill-color);\n",
       "      border-right-color: var(--fill-color);\n",
       "    }\n",
       "    40% {\n",
       "      border-color: transparent;\n",
       "      border-right-color: var(--fill-color);\n",
       "      border-top-color: var(--fill-color);\n",
       "    }\n",
       "    60% {\n",
       "      border-color: transparent;\n",
       "      border-right-color: var(--fill-color);\n",
       "    }\n",
       "    80% {\n",
       "      border-color: transparent;\n",
       "      border-right-color: var(--fill-color);\n",
       "      border-bottom-color: var(--fill-color);\n",
       "    }\n",
       "    90% {\n",
       "      border-color: transparent;\n",
       "      border-bottom-color: var(--fill-color);\n",
       "    }\n",
       "  }\n",
       "</style>\n",
       "\n",
       "      <script>\n",
       "        async function quickchart(key) {\n",
       "          const quickchartButtonEl =\n",
       "            document.querySelector('#' + key + ' button');\n",
       "          quickchartButtonEl.disabled = true;  // To prevent multiple clicks.\n",
       "          quickchartButtonEl.classList.add('colab-df-spinner');\n",
       "          try {\n",
       "            const charts = await google.colab.kernel.invokeFunction(\n",
       "                'suggestCharts', [key], {});\n",
       "          } catch (error) {\n",
       "            console.error('Error during call to suggestCharts:', error);\n",
       "          }\n",
       "          quickchartButtonEl.classList.remove('colab-df-spinner');\n",
       "          quickchartButtonEl.classList.add('colab-df-quickchart-complete');\n",
       "        }\n",
       "        (() => {\n",
       "          let quickchartButtonEl =\n",
       "            document.querySelector('#df-ff7784a0-65a0-46aa-a7c3-039b13db207e button');\n",
       "          quickchartButtonEl.style.display =\n",
       "            google.colab.kernel.accessAllowed ? 'block' : 'none';\n",
       "        })();\n",
       "      </script>\n",
       "    </div>\n",
       "\n",
       "    </div>\n",
       "  </div>\n"
      ],
      "text/plain": [
       "             accuracy  f1_macro  micro_auc\n",
       "resnet50       0.9453    0.9453     0.9941\n",
       "inceptionv3    0.9391    0.9390     0.9933\n",
       "vgg16          0.3378    0.1761     0.5105"
      ]
     },
     "metadata": {},
     "output_type": "display_data"
    }
   ],
   "source": [
    "summary_df = pd.DataFrame.from_dict(results, orient='index')\n",
    "summary_df = summary_df[['accuracy', 'f1_macro', 'micro_auc']].round(4)\n",
    "display(summary_df.sort_values(by='micro_auc', ascending=False))"
   ]
  },
  {
   "cell_type": "markdown",
   "metadata": {
    "id": "9ghWIIVAF_PP"
   },
   "source": [
    "# Saving Best Model to S3"
   ]
  },
  {
   "cell_type": "code",
   "execution_count": 10,
   "metadata": {
    "colab": {
     "base_uri": "https://localhost:8080/"
    },
    "executionInfo": {
     "elapsed": 5539,
     "status": "ok",
     "timestamp": 1751840099201,
     "user": {
      "displayName": "Muditha Athipola",
      "userId": "12264559057362737109"
     },
     "user_tz": -330
    },
    "id": "Llj8CS9EF_hh",
    "outputId": "e9dd59a5-78a8-433d-f66d-e8caf0c3eea6"
   },
   "outputs": [
    {
     "name": "stdout",
     "output_type": "stream",
     "text": [
      "\n",
      " Uploading best model: resnet50\n",
      "Best model uploaded to S3.\n",
      "Best Model: resnet50 | Micro-Average AUC = 0.9941\n"
     ]
    }
   ],
   "source": [
    "best_model_name = summary_df['micro_auc'].idxmax()\n",
    "best_model_path = MODEL_PATHS[best_model_name]\n",
    "best_model_s3_key = f\"model-artifacts/histopathology_model/best_histopathology_model_{best_model_name}.h5\"\n",
    "\n",
    "try:\n",
    "    print(f\"\\n Uploading best model: {best_model_name}\")\n",
    "    s3.upload_file(best_model_path, S3_BUCKET_NAME, best_model_s3_key)\n",
    "    print(\"Best model uploaded to S3.\")\n",
    "except NoCredentialsError:\n",
    "    print(\"AWS credentials not found. Upload failed.\")\n",
    "\n",
    "print(f\"Best Model: {best_model_name} | Micro-Average AUC = {summary_df.loc[best_model_name, 'micro_auc']:.4f}\")"
   ]
  }
 ],
 "metadata": {
  "colab": {
   "authorship_tag": "ABX9TyOS3gaSnWxYSx5egPKHYyS5",
   "mount_file_id": "1HZZLvmT5lJJJ-WUHfGx0aTdFFSpkbqpI",
   "provenance": []
  },
  "kernelspec": {
   "display_name": "Python 3",
   "name": "python3"
  },
  "language_info": {
   "name": "python"
  }
 },
 "nbformat": 4,
 "nbformat_minor": 0
}
